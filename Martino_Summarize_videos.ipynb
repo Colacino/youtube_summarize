{
  "cells": [
    {
      "cell_type": "markdown",
      "metadata": {
        "id": "view-in-github",
        "colab_type": "text"
      },
      "source": [
        "<a href=\"https://colab.research.google.com/github/martinopiaggi/summarize/blob/main/Martino_Summarize_videos.ipynb\" target=\"_parent\"><img src=\"https://colab.research.google.com/assets/colab-badge.svg\" alt=\"Open In Colab\"/></a>"
      ]
    },
    {
      "cell_type": "code",
      "source": [
        "#@markdown # **Source of the summary**\n",
        "\n",
        "Type = \"Youtube video or playlist\" #@param ['Text', 'Text from Google Drive','Youtube video or playlist', 'Videos on Google Drive folder']\n",
        "#@markdown ---\n",
        "#@markdown #### **Text (only if Type is Text)**\n",
        "Text = \"Making your bed in the morning, that first cup of coffee, grabbing a croissant on your way to work, listening to your favorite podcast on the train\\u2026 As much as we wish for each day to be different, repeating some of the same actions is an important part of our lives.  Researchers have found that no more than 40% of our actions are consciously self-selected. Instead, we perform these actions in an automated way, without conscious awareness. How can you ramp up that percentage and live a more intentional life?  The key is to understand the difference between habits, routines, and rituals, and to design a life where your daily actions allow you to play with the entire spectrum of consciousness.  Shades of Consciousness Waking up, commuting, walking past a particular store, or starting a meeting at work are common cues that can trigger actions as diverse as smoking a cigarette, buying a croissant, or drinking coffee.  Many books have been written about building better habits and breaking bad ones. The most famous is probably Atomic Habits by James Clear (2018), but other ones such as The Seven Habits of Highly Effective People by Stephen Covey (1989) and The Power of Habits by Charles Duhigg (2012) have also sold millions of copies. It\\u2019s fair to say that people are convinced habits matter.  And it makes sense. To maintain a healthy lifestyle, it helps to be able to set some behaviors on autopilot so that you don\\u2019t have to make a conscious effort every single time. Habits are great for those actions.  But most good habits don\\u2019t start as habits. They start as routines. The main difference between habits and routines is how aware and intentional you are. A habit usually manifests itself as an automatic urge to do something, often triggered by a particular cue. The stronger the connection between the trigger and the habit, the more ingrained the habit.  In contrast, routines require deliberate practice. Making your bed in the morning, going to the gym, going for a hike every Sunday, and meditating are all routines that require you to keep consciously practicing them or they eventually die out. Your brain will not go into automatic mode and walk you to the gym for your weekly HIIT class.  Both habits and routines are regular and repeated actions, but habits happen with little or no conscious thought, whereas routines require a higher degree of intention and effort.  With enough time, routines can turn into habits, but you need enough repetitions to create that habit loop:  Cue. Choose a trigger to tell your brain to start the routine you want to turn into a habit. Routine. Execute the routine, ideally starting with a small, actionable chunk. Reward. Do something enjoyable to tell your brain that this particular action is worth performing again in the future. When it comes to healthy habits, automaticity is good. Building a loop is good. But what about the actions where you actually want to make a conscious effort, the ones where you get satisfaction from pushing yourself out of your comfort zone?  How can you nurture and maintain more intentionality \\u2014 in short, break the loop \\u2014 with these actions?  From Routine to Ritual We tend to associate rituals with very specific types of activities: communal rites of worship, rites of passage, commemorative rites\\u2026 Yes, these are rituals, but this is only the narrowest definition of the term.  More broadly, the difference between a routine and a ritual is the mindset behind the action. While routines can be actions that just need to be done\\u2014such as making your bed or taking a shower\\u2014rituals are viewed as more meaningful practices that have a real sense of purpose.  Design your habits, routines, and rituals with the intentionality curve Rituals do not have to be spiritual or religious. What matters is your level of intentionality. With rituals, you are fully engaged with a focus on the experience of the task, rather than its mere completion. You are investing your highest levels of energy and consciousness.  And you can virtually turn any routine into a ritual by becoming more mindful and making mental space for the action. For instance, when you eat, you could practice paying attention to the textures and the way you chew. Research actually shows that mindful eating can indeed improve the flavor of your food, making you feel more satisfied.  Showering can become an opportunity to become mindful of your body and its connection to your mind. Focus on the sensation of the water on your skin and how your thoughts seem to flow more easily. This way, a simple morning routine can become a morning ritual.  Even cleaning the house can be used to become more aware of your body movements and sensations in your muscles and joints. Just look at some of your existing routines and see if any could become more intentional.  The Intentional Life The power of playing with the spectrum of consciousness when performing daily activities is that you don\\u2019t need to carve extra time for a separate mindfulness practice. Yes, there is lots of research showing the benefits of journaling, yoga, and meditation, but sometimes life gets busy.  Turning a daily routine into a daily ritual is an easy way to inject more intentionality into your life, even when you don\\u2019t have much time or energy.  And being aware of your consciousness levels can also help you create better habits. I call this intentional process of scaling up or down your consciousness levels when performing daily actions the Intentionality Curve. Just ask yourself:  What routines do I want to turn into habits by lowering my intentionality? What routines do I want to turn into rituals by increasing my intentionality? Those two simple questions, if you ask them regularly, can help you practice metacognition in a very tangible way and avoid living your life on autopilot. And that\\u2019s an idea worth playing with.\" #@param {type:\"string\"}\n",
        "#@markdown ---\n",
        "#@markdown #### **Youtube video or playlist**\n",
        "URL = \"https://www.youtube.com/watch?v=BcEqprMQu8w\" #@param {type:\"string\"}\n",
        "#@markdown ---\n",
        "#@markdown #### **Google Drive video, audio (mp4, wav), or folder containing video and/or audio files**\n",
        "video_path = \"Colab Notebooks/transcription/my_video.mp4\" #@param {type:\"string\"}\n",
        "#@markdown ---\n",
        "#@markdown **Run this cell again if you change the source**\n",
        "\n"
      ],
      "metadata": {
        "cellView": "form",
        "id": "jwROe6WH2lZi"
      },
      "execution_count": 2,
      "outputs": []
    },
    {
      "cell_type": "code",
      "source": [
        "#@markdown ---\n",
        "#@markdown # **Install libraries**\n",
        "#@markdown This cell will take a little while to download several libraries\n",
        "\n",
        "#@markdown ---\n",
        "!pip install transformers\n",
        "!pip install tensorflow\n",
        "from transformers import pipeline\n",
        "summarizer = pipeline(\"summarization\", model=\"facebook/bart-large-cnn\",device=0)\n",
        "\n",
        "import re\n",
        "import math\n",
        "\n",
        "if Type == (\"Youtube video or playlist\" or 'Videos on Google Drive folder'):\n",
        "\n",
        "  video_path_local_list = []\n",
        "  !pip install git+https://github.com/openai/whisper.git\n",
        "  !sudo apt update && sudo apt install ffmpeg\n",
        "  import subprocess\n",
        "\n",
        "if Type == \"Youtube video or playlist\":\n",
        "  !pip install yt-dlp\n",
        "  from pathlib import Path\n",
        "  import yt_dlp\n",
        "\n",
        "  ydl_opts = {\n",
        "  'format': 'm4a/bestaudio/best',\n",
        "  'outtmpl': '%(id)s.%(ext)s',\n",
        "  # ℹ️ See help(yt_dlp.postprocessor) for a list of available Postprocessors and their arguments\n",
        "  'postprocessors': [{  # Extract audio using ffmpeg\n",
        "  'key': 'FFmpegExtractAudio',\n",
        "  'preferredcodec': 'wav',\n",
        "  }]\n",
        "  }\n",
        "\n",
        "  with yt_dlp.YoutubeDL(ydl_opts) as ydl:\n",
        "    error_code = ydl.download([URL])\n",
        "    list_video_info = [ydl.extract_info(URL, download=False)]\n",
        "\n",
        "  for video_info in list_video_info:\n",
        "    video_path_local_list.append(Path(f\"{video_info['id']}.wav\"))\n",
        "\n",
        "  for video_path_local in video_path_local_list:\n",
        "    if video_path_local.suffix == \".mp4\":\n",
        "        video_path_local = video_path_local.with_suffix(\".wav\")\n",
        "    result  = subprocess.run([\"ffmpeg\", \"-i\", str(video_path_local.with_suffix(\".mp4\")), \"-vn\", \"-acodec\", \"pcm_s16le\", \"-ar\", \"16000\", \"-ac\", \"1\", str(video_path_local)])\n"
      ],
      "metadata": {
        "colab": {
          "base_uri": "https://localhost:8080/"
        },
        "cellView": "form",
        "collapsed": true,
        "id": "sJnZWCPc3uOH",
        "outputId": "24600bc9-c7af-4626-df3e-a28732d05e64"
      },
      "execution_count": 3,
      "outputs": [
        {
          "output_type": "stream",
          "name": "stdout",
          "text": [
            "\u001b[33mWARNING: Ignoring invalid distribution -orch (/usr/local/lib/python3.10/dist-packages)\u001b[0m\u001b[33m\n",
            "\u001b[0mRequirement already satisfied: transformers in /usr/local/lib/python3.10/dist-packages (4.34.1)\n",
            "Requirement already satisfied: filelock in /usr/local/lib/python3.10/dist-packages (from transformers) (3.12.4)\n",
            "Requirement already satisfied: huggingface-hub<1.0,>=0.16.4 in /usr/local/lib/python3.10/dist-packages (from transformers) (0.17.3)\n",
            "Requirement already satisfied: numpy>=1.17 in /usr/local/lib/python3.10/dist-packages (from transformers) (1.23.5)\n",
            "Requirement already satisfied: packaging>=20.0 in /usr/local/lib/python3.10/dist-packages (from transformers) (23.2)\n",
            "Requirement already satisfied: pyyaml>=5.1 in /usr/local/lib/python3.10/dist-packages (from transformers) (6.0.1)\n",
            "Requirement already satisfied: regex!=2019.12.17 in /usr/local/lib/python3.10/dist-packages (from transformers) (2023.6.3)\n",
            "Requirement already satisfied: requests in /usr/local/lib/python3.10/dist-packages (from transformers) (2.31.0)\n",
            "Requirement already satisfied: tokenizers<0.15,>=0.14 in /usr/local/lib/python3.10/dist-packages (from transformers) (0.14.1)\n",
            "Requirement already satisfied: safetensors>=0.3.1 in /usr/local/lib/python3.10/dist-packages (from transformers) (0.4.0)\n",
            "Requirement already satisfied: tqdm>=4.27 in /usr/local/lib/python3.10/dist-packages (from transformers) (4.66.1)\n",
            "Requirement already satisfied: fsspec in /usr/local/lib/python3.10/dist-packages (from huggingface-hub<1.0,>=0.16.4->transformers) (2023.6.0)\n",
            "Requirement already satisfied: typing-extensions>=3.7.4.3 in /usr/local/lib/python3.10/dist-packages (from huggingface-hub<1.0,>=0.16.4->transformers) (4.5.0)\n",
            "Requirement already satisfied: charset-normalizer<4,>=2 in /usr/local/lib/python3.10/dist-packages (from requests->transformers) (3.3.0)\n",
            "Requirement already satisfied: idna<4,>=2.5 in /usr/local/lib/python3.10/dist-packages (from requests->transformers) (3.4)\n",
            "Requirement already satisfied: urllib3<3,>=1.21.1 in /usr/local/lib/python3.10/dist-packages (from requests->transformers) (2.0.7)\n",
            "Requirement already satisfied: certifi>=2017.4.17 in /usr/local/lib/python3.10/dist-packages (from requests->transformers) (2023.7.22)\n",
            "\u001b[33mWARNING: Ignoring invalid distribution -orch (/usr/local/lib/python3.10/dist-packages)\u001b[0m\u001b[33m\n",
            "\u001b[0m\u001b[33mWARNING: Ignoring invalid distribution -orch (/usr/local/lib/python3.10/dist-packages)\u001b[0m\u001b[33m\n",
            "\u001b[0mRequirement already satisfied: tensorflow in /usr/local/lib/python3.10/dist-packages (2.13.0)\n",
            "Requirement already satisfied: absl-py>=1.0.0 in /usr/local/lib/python3.10/dist-packages (from tensorflow) (1.4.0)\n",
            "Requirement already satisfied: astunparse>=1.6.0 in /usr/local/lib/python3.10/dist-packages (from tensorflow) (1.6.3)\n",
            "Requirement already satisfied: flatbuffers>=23.1.21 in /usr/local/lib/python3.10/dist-packages (from tensorflow) (23.5.26)\n",
            "Requirement already satisfied: gast<=0.4.0,>=0.2.1 in /usr/local/lib/python3.10/dist-packages (from tensorflow) (0.4.0)\n",
            "Requirement already satisfied: google-pasta>=0.1.1 in /usr/local/lib/python3.10/dist-packages (from tensorflow) (0.2.0)\n",
            "Requirement already satisfied: grpcio<2.0,>=1.24.3 in /usr/local/lib/python3.10/dist-packages (from tensorflow) (1.59.0)\n",
            "Requirement already satisfied: h5py>=2.9.0 in /usr/local/lib/python3.10/dist-packages (from tensorflow) (3.9.0)\n",
            "Requirement already satisfied: keras<2.14,>=2.13.1 in /usr/local/lib/python3.10/dist-packages (from tensorflow) (2.13.1)\n",
            "Requirement already satisfied: libclang>=13.0.0 in /usr/local/lib/python3.10/dist-packages (from tensorflow) (16.0.6)\n",
            "Requirement already satisfied: numpy<=1.24.3,>=1.22 in /usr/local/lib/python3.10/dist-packages (from tensorflow) (1.23.5)\n",
            "Requirement already satisfied: opt-einsum>=2.3.2 in /usr/local/lib/python3.10/dist-packages (from tensorflow) (3.3.0)\n",
            "Requirement already satisfied: packaging in /usr/local/lib/python3.10/dist-packages (from tensorflow) (23.2)\n",
            "Requirement already satisfied: protobuf!=4.21.0,!=4.21.1,!=4.21.2,!=4.21.3,!=4.21.4,!=4.21.5,<5.0.0dev,>=3.20.3 in /usr/local/lib/python3.10/dist-packages (from tensorflow) (3.20.3)\n",
            "Requirement already satisfied: setuptools in /usr/local/lib/python3.10/dist-packages (from tensorflow) (67.7.2)\n",
            "Requirement already satisfied: six>=1.12.0 in /usr/local/lib/python3.10/dist-packages (from tensorflow) (1.16.0)\n",
            "Requirement already satisfied: tensorboard<2.14,>=2.13 in /usr/local/lib/python3.10/dist-packages (from tensorflow) (2.13.0)\n",
            "Requirement already satisfied: tensorflow-estimator<2.14,>=2.13.0 in /usr/local/lib/python3.10/dist-packages (from tensorflow) (2.13.0)\n",
            "Requirement already satisfied: termcolor>=1.1.0 in /usr/local/lib/python3.10/dist-packages (from tensorflow) (2.3.0)\n",
            "Requirement already satisfied: typing-extensions<4.6.0,>=3.6.6 in /usr/local/lib/python3.10/dist-packages (from tensorflow) (4.5.0)\n",
            "Requirement already satisfied: wrapt>=1.11.0 in /usr/local/lib/python3.10/dist-packages (from tensorflow) (1.15.0)\n",
            "Requirement already satisfied: tensorflow-io-gcs-filesystem>=0.23.1 in /usr/local/lib/python3.10/dist-packages (from tensorflow) (0.34.0)\n",
            "Requirement already satisfied: wheel<1.0,>=0.23.0 in /usr/local/lib/python3.10/dist-packages (from astunparse>=1.6.0->tensorflow) (0.41.2)\n",
            "Requirement already satisfied: google-auth<3,>=1.6.3 in /usr/local/lib/python3.10/dist-packages (from tensorboard<2.14,>=2.13->tensorflow) (2.17.3)\n",
            "Requirement already satisfied: google-auth-oauthlib<1.1,>=0.5 in /usr/local/lib/python3.10/dist-packages (from tensorboard<2.14,>=2.13->tensorflow) (1.0.0)\n",
            "Requirement already satisfied: markdown>=2.6.8 in /usr/local/lib/python3.10/dist-packages (from tensorboard<2.14,>=2.13->tensorflow) (3.5)\n",
            "Requirement already satisfied: requests<3,>=2.21.0 in /usr/local/lib/python3.10/dist-packages (from tensorboard<2.14,>=2.13->tensorflow) (2.31.0)\n",
            "Requirement already satisfied: tensorboard-data-server<0.8.0,>=0.7.0 in /usr/local/lib/python3.10/dist-packages (from tensorboard<2.14,>=2.13->tensorflow) (0.7.1)\n",
            "Requirement already satisfied: werkzeug>=1.0.1 in /usr/local/lib/python3.10/dist-packages (from tensorboard<2.14,>=2.13->tensorflow) (3.0.0)\n",
            "Requirement already satisfied: cachetools<6.0,>=2.0.0 in /usr/local/lib/python3.10/dist-packages (from google-auth<3,>=1.6.3->tensorboard<2.14,>=2.13->tensorflow) (5.3.1)\n",
            "Requirement already satisfied: pyasn1-modules>=0.2.1 in /usr/local/lib/python3.10/dist-packages (from google-auth<3,>=1.6.3->tensorboard<2.14,>=2.13->tensorflow) (0.3.0)\n",
            "Requirement already satisfied: rsa<5,>=3.1.4 in /usr/local/lib/python3.10/dist-packages (from google-auth<3,>=1.6.3->tensorboard<2.14,>=2.13->tensorflow) (4.9)\n",
            "Requirement already satisfied: requests-oauthlib>=0.7.0 in /usr/local/lib/python3.10/dist-packages (from google-auth-oauthlib<1.1,>=0.5->tensorboard<2.14,>=2.13->tensorflow) (1.3.1)\n",
            "Requirement already satisfied: charset-normalizer<4,>=2 in /usr/local/lib/python3.10/dist-packages (from requests<3,>=2.21.0->tensorboard<2.14,>=2.13->tensorflow) (3.3.0)\n",
            "Requirement already satisfied: idna<4,>=2.5 in /usr/local/lib/python3.10/dist-packages (from requests<3,>=2.21.0->tensorboard<2.14,>=2.13->tensorflow) (3.4)\n",
            "Requirement already satisfied: urllib3<3,>=1.21.1 in /usr/local/lib/python3.10/dist-packages (from requests<3,>=2.21.0->tensorboard<2.14,>=2.13->tensorflow) (2.0.7)\n",
            "Requirement already satisfied: certifi>=2017.4.17 in /usr/local/lib/python3.10/dist-packages (from requests<3,>=2.21.0->tensorboard<2.14,>=2.13->tensorflow) (2023.7.22)\n",
            "Requirement already satisfied: MarkupSafe>=2.1.1 in /usr/local/lib/python3.10/dist-packages (from werkzeug>=1.0.1->tensorboard<2.14,>=2.13->tensorflow) (2.1.3)\n",
            "Requirement already satisfied: pyasn1<0.6.0,>=0.4.6 in /usr/local/lib/python3.10/dist-packages (from pyasn1-modules>=0.2.1->google-auth<3,>=1.6.3->tensorboard<2.14,>=2.13->tensorflow) (0.5.0)\n",
            "Requirement already satisfied: oauthlib>=3.0.0 in /usr/local/lib/python3.10/dist-packages (from requests-oauthlib>=0.7.0->google-auth-oauthlib<1.1,>=0.5->tensorboard<2.14,>=2.13->tensorflow) (3.2.2)\n",
            "\u001b[33mWARNING: Ignoring invalid distribution -orch (/usr/local/lib/python3.10/dist-packages)\u001b[0m\u001b[33m\n",
            "\u001b[0m\u001b[33mWARNING: Ignoring invalid distribution -orch (/usr/local/lib/python3.10/dist-packages)\u001b[0m\u001b[33m\n",
            "\u001b[0mCollecting git+https://github.com/openai/whisper.git\n",
            "  Cloning https://github.com/openai/whisper.git to /tmp/pip-req-build-w_irmylr\n",
            "  Running command git clone --filter=blob:none --quiet https://github.com/openai/whisper.git /tmp/pip-req-build-w_irmylr\n",
            "  Resolved https://github.com/openai/whisper.git to commit b38a1f20f4b23f3f3099af2c3e0ca95627276ddf\n",
            "  Installing build dependencies ... \u001b[?25l\u001b[?25hdone\n",
            "  Getting requirements to build wheel ... \u001b[?25l\u001b[?25hdone\n",
            "  Preparing metadata (pyproject.toml) ... \u001b[?25l\u001b[?25hdone\n",
            "Requirement already satisfied: triton==2.0.0 in /usr/local/lib/python3.10/dist-packages (from openai-whisper==20230918) (2.0.0)\n",
            "Requirement already satisfied: numba in /usr/local/lib/python3.10/dist-packages (from openai-whisper==20230918) (0.56.4)\n",
            "Requirement already satisfied: numpy in /usr/local/lib/python3.10/dist-packages (from openai-whisper==20230918) (1.23.5)\n",
            "Requirement already satisfied: torch in /usr/local/lib/python3.10/dist-packages (from openai-whisper==20230918) (2.0.1)\n",
            "Requirement already satisfied: tqdm in /usr/local/lib/python3.10/dist-packages (from openai-whisper==20230918) (4.66.1)\n",
            "Requirement already satisfied: more-itertools in /usr/local/lib/python3.10/dist-packages (from openai-whisper==20230918) (10.1.0)\n",
            "Requirement already satisfied: tiktoken==0.3.3 in /usr/local/lib/python3.10/dist-packages (from openai-whisper==20230918) (0.3.3)\n",
            "Requirement already satisfied: regex>=2022.1.18 in /usr/local/lib/python3.10/dist-packages (from tiktoken==0.3.3->openai-whisper==20230918) (2023.6.3)\n",
            "Requirement already satisfied: requests>=2.26.0 in /usr/local/lib/python3.10/dist-packages (from tiktoken==0.3.3->openai-whisper==20230918) (2.31.0)\n",
            "Requirement already satisfied: cmake in /usr/local/lib/python3.10/dist-packages (from triton==2.0.0->openai-whisper==20230918) (3.27.7)\n",
            "Requirement already satisfied: filelock in /usr/local/lib/python3.10/dist-packages (from triton==2.0.0->openai-whisper==20230918) (3.12.4)\n",
            "Requirement already satisfied: lit in /usr/local/lib/python3.10/dist-packages (from triton==2.0.0->openai-whisper==20230918) (17.0.3)\n",
            "Requirement already satisfied: llvmlite<0.40,>=0.39.0dev0 in /usr/local/lib/python3.10/dist-packages (from numba->openai-whisper==20230918) (0.39.1)\n",
            "Requirement already satisfied: setuptools in /usr/local/lib/python3.10/dist-packages (from numba->openai-whisper==20230918) (67.7.2)\n",
            "Requirement already satisfied: typing-extensions in /usr/local/lib/python3.10/dist-packages (from torch->openai-whisper==20230918) (4.5.0)\n",
            "Requirement already satisfied: sympy in /usr/local/lib/python3.10/dist-packages (from torch->openai-whisper==20230918) (1.12)\n",
            "Requirement already satisfied: networkx in /usr/local/lib/python3.10/dist-packages (from torch->openai-whisper==20230918) (3.1)\n",
            "Requirement already satisfied: jinja2 in /usr/local/lib/python3.10/dist-packages (from torch->openai-whisper==20230918) (3.1.2)\n",
            "Requirement already satisfied: nvidia-cuda-nvrtc-cu11==11.7.99 in /usr/local/lib/python3.10/dist-packages (from torch->openai-whisper==20230918) (11.7.99)\n",
            "Requirement already satisfied: nvidia-cuda-runtime-cu11==11.7.99 in /usr/local/lib/python3.10/dist-packages (from torch->openai-whisper==20230918) (11.7.99)\n",
            "Requirement already satisfied: nvidia-cuda-cupti-cu11==11.7.101 in /usr/local/lib/python3.10/dist-packages (from torch->openai-whisper==20230918) (11.7.101)\n",
            "Requirement already satisfied: nvidia-cudnn-cu11==8.5.0.96 in /usr/local/lib/python3.10/dist-packages (from torch->openai-whisper==20230918) (8.5.0.96)\n",
            "Requirement already satisfied: nvidia-cublas-cu11==11.10.3.66 in /usr/local/lib/python3.10/dist-packages (from torch->openai-whisper==20230918) (11.10.3.66)\n",
            "Requirement already satisfied: nvidia-cufft-cu11==10.9.0.58 in /usr/local/lib/python3.10/dist-packages (from torch->openai-whisper==20230918) (10.9.0.58)\n",
            "Requirement already satisfied: nvidia-curand-cu11==10.2.10.91 in /usr/local/lib/python3.10/dist-packages (from torch->openai-whisper==20230918) (10.2.10.91)\n",
            "Requirement already satisfied: nvidia-cusolver-cu11==11.4.0.1 in /usr/local/lib/python3.10/dist-packages (from torch->openai-whisper==20230918) (11.4.0.1)\n",
            "Requirement already satisfied: nvidia-cusparse-cu11==11.7.4.91 in /usr/local/lib/python3.10/dist-packages (from torch->openai-whisper==20230918) (11.7.4.91)\n",
            "Requirement already satisfied: nvidia-nccl-cu11==2.14.3 in /usr/local/lib/python3.10/dist-packages (from torch->openai-whisper==20230918) (2.14.3)\n",
            "Requirement already satisfied: nvidia-nvtx-cu11==11.7.91 in /usr/local/lib/python3.10/dist-packages (from torch->openai-whisper==20230918) (11.7.91)\n",
            "Requirement already satisfied: wheel in /usr/local/lib/python3.10/dist-packages (from nvidia-cublas-cu11==11.10.3.66->torch->openai-whisper==20230918) (0.41.2)\n",
            "Requirement already satisfied: charset-normalizer<4,>=2 in /usr/local/lib/python3.10/dist-packages (from requests>=2.26.0->tiktoken==0.3.3->openai-whisper==20230918) (3.3.0)\n",
            "Requirement already satisfied: idna<4,>=2.5 in /usr/local/lib/python3.10/dist-packages (from requests>=2.26.0->tiktoken==0.3.3->openai-whisper==20230918) (3.4)\n",
            "Requirement already satisfied: urllib3<3,>=1.21.1 in /usr/local/lib/python3.10/dist-packages (from requests>=2.26.0->tiktoken==0.3.3->openai-whisper==20230918) (2.0.7)\n",
            "Requirement already satisfied: certifi>=2017.4.17 in /usr/local/lib/python3.10/dist-packages (from requests>=2.26.0->tiktoken==0.3.3->openai-whisper==20230918) (2023.7.22)\n",
            "Requirement already satisfied: MarkupSafe>=2.0 in /usr/local/lib/python3.10/dist-packages (from jinja2->torch->openai-whisper==20230918) (2.1.3)\n",
            "Requirement already satisfied: mpmath>=0.19 in /usr/local/lib/python3.10/dist-packages (from sympy->torch->openai-whisper==20230918) (1.3.0)\n",
            "\u001b[33mWARNING: Ignoring invalid distribution -orch (/usr/local/lib/python3.10/dist-packages)\u001b[0m\u001b[33m\n",
            "Hit:1 https://developer.download.nvidia.com/compute/cuda/repos/ubuntu2204/x86_64  InRelease\n",
            "Hit:2 https://cloud.r-project.org/bin/linux/ubuntu jammy-cran40/ InRelease\n",
            "Hit:3 http://security.ubuntu.com/ubuntu jammy-security InRelease\n",
            "Hit:4 http://archive.ubuntu.com/ubuntu jammy InRelease\n",
            "Hit:5 http://archive.ubuntu.com/ubuntu jammy-updates InRelease\n",
            "Hit:6 https://ppa.launchpadcontent.net/c2d4u.team/c2d4u4.0+/ubuntu jammy InRelease\n",
            "Hit:7 http://archive.ubuntu.com/ubuntu jammy-backports InRelease\n",
            "Hit:8 https://ppa.launchpadcontent.net/deadsnakes/ppa/ubuntu jammy InRelease\n",
            "Hit:9 https://ppa.launchpadcontent.net/graphics-drivers/ppa/ubuntu jammy InRelease\n",
            "Hit:10 https://ppa.launchpadcontent.net/ubuntugis/ppa/ubuntu jammy InRelease\n",
            "Reading package lists... Done\n",
            "Building dependency tree... Done\n",
            "Reading state information... Done\n",
            "19 packages can be upgraded. Run 'apt list --upgradable' to see them.\n",
            "Reading package lists... Done\n",
            "Building dependency tree... Done\n",
            "Reading state information... Done\n",
            "ffmpeg is already the newest version (7:4.4.2-0ubuntu0.22.04.1).\n",
            "0 upgraded, 0 newly installed, 0 to remove and 19 not upgraded.\n",
            "\u001b[33mWARNING: Ignoring invalid distribution -orch (/usr/local/lib/python3.10/dist-packages)\u001b[0m\u001b[33m\n",
            "\u001b[0mRequirement already satisfied: yt-dlp in /usr/local/lib/python3.10/dist-packages (2023.10.13)\n",
            "Requirement already satisfied: mutagen in /usr/local/lib/python3.10/dist-packages (from yt-dlp) (1.47.0)\n",
            "Requirement already satisfied: pycryptodomex in /usr/local/lib/python3.10/dist-packages (from yt-dlp) (3.19.0)\n",
            "Requirement already satisfied: websockets in /usr/local/lib/python3.10/dist-packages (from yt-dlp) (11.0.3)\n",
            "Requirement already satisfied: certifi in /usr/local/lib/python3.10/dist-packages (from yt-dlp) (2023.7.22)\n",
            "Requirement already satisfied: brotli in /usr/local/lib/python3.10/dist-packages (from yt-dlp) (1.1.0)\n",
            "\u001b[33mWARNING: Ignoring invalid distribution -orch (/usr/local/lib/python3.10/dist-packages)\u001b[0m\u001b[33m\n",
            "\u001b[0m[youtube] Extracting URL: https://www.youtube.com/watch?v=BcEqprMQu8w\n",
            "[youtube] BcEqprMQu8w: Downloading webpage\n",
            "[youtube] BcEqprMQu8w: Downloading ios player API JSON\n",
            "[youtube] BcEqprMQu8w: Downloading android player API JSON\n",
            "[youtube] BcEqprMQu8w: Downloading m3u8 information\n",
            "[info] BcEqprMQu8w: Downloading 1 format(s): 140\n",
            "[download] Destination: BcEqprMQu8w.m4a\n",
            "[download] 100% of   22.93MiB in 00:00:07 at 2.95MiB/s   \n",
            "[FixupM4a] Correcting container of \"BcEqprMQu8w.m4a\"\n",
            "[ExtractAudio] Destination: BcEqprMQu8w.wav\n",
            "Deleting original file BcEqprMQu8w.m4a (pass -k to keep)\n",
            "[youtube] Extracting URL: https://www.youtube.com/watch?v=BcEqprMQu8w\n",
            "[youtube] BcEqprMQu8w: Downloading webpage\n",
            "[youtube] BcEqprMQu8w: Downloading ios player API JSON\n",
            "[youtube] BcEqprMQu8w: Downloading android player API JSON\n",
            "[youtube] BcEqprMQu8w: Downloading m3u8 information\n"
          ]
        }
      ]
    },
    {
      "cell_type": "code",
      "source": [
        "print(video_path_local)"
      ],
      "metadata": {
        "colab": {
          "base_uri": "https://localhost:8080/"
        },
        "id": "NskuKD-9Kyoe",
        "outputId": "46184a33-3bc5-42c8-eb70-9febfde6625f"
      },
      "execution_count": 5,
      "outputs": [
        {
          "output_type": "stream",
          "name": "stdout",
          "text": [
            "BcEqprMQu8w.wav\n"
          ]
        }
      ]
    },
    {
      "cell_type": "code",
      "execution_count": 6,
      "metadata": {
        "colab": {
          "base_uri": "https://localhost:8080/"
        },
        "id": "iOTFm1vPAVDh",
        "outputId": "90e07bd8-b1f3-4b33-fa0c-d719f10662c1",
        "cellView": "form"
      },
      "outputs": [
        {
          "output_type": "stream",
          "name": "stdout",
          "text": [
            "['Detecting language using up to the first 30 seconds. Use `--language` to specify the language', 'Detected language: Italian', '[00:00.000 --> 00:08.600]  Io sono un grandissimo fan dei sanitari, dei Watter giapponesi e asiatici in generale.', '[00:08.600 --> 00:09.840]  È totalmente il futuro.', '[00:09.840 --> 00:13.560]  Cioè, ragazzi, chi li odia è perché non li ha mai provati.', '[00:13.560 --> 00:20.000]  Noi che italiani abbiamo il bidet, abbiamo il bidet, no, no, no, no, no, i Watter giapponesi', '[00:20.000 --> 00:21.000]  battono tutti.', \"[00:21.000 --> 00:25.320]  Si chiama user journey nel campo del design, quando progetti l'esperienza dell'utente che\", \"[00:25.320 --> 00:29.720]  utilizza un prodotto dall'inizio alla fine, quando vai sul Watter e dopo c'è la fase\", '[00:29.720 --> 00:33.320]  successiva al bidet e loro fanno tutto in uno, quindi è perfettamente senso.', '[00:33.320 --> 00:38.160]  Questo è Upgrade, il podcast di Will che racconta come la tecnologia abbia travolto,', '[00:38.160 --> 00:42.720]  mutato e di fatto aggiornato le nostre vite e soprattutto le nostre case.', '[00:42.720 --> 00:45.440]  Io sono Marco Paretti e io sono Yaki Dale.', '[00:45.440 --> 00:52.240]  Ah, iniziamo così questa seconda puntata di Upgrade, il podcast che parla di tecnologia', '[00:52.240 --> 00:57.360]  in casa come zasforma la tecnologia alle nostre case sempre con Yaki.', '[00:57.360 --> 00:58.880]  Salve, salve a tutti, ciao Marco.', \"[00:58.880 --> 01:03.760]  Che oggi, lo diciamo anche per chi non ci sta guardando, ha uno schienale, ce l'ho anch'io.\", '[01:03.760 --> 01:09.200]  Oggi siamo seduti, è bellissimo stare seduti, vedi la tecnologia e anche poter stare seduti.', '[01:09.200 --> 01:10.920]  Comodi, parlando in un micodofono.', '[01:10.920 --> 01:15.840]  Oggi siamo nel salotto della Smatthingsome di Samsung perché parliamo di design e di come', '[01:15.840 --> 01:18.880]  la tecnologia ha cambiato il design delle nostre case.', '[01:18.880 --> 01:20.800]  Lo facciamo con Riccardo Breccia.', '[01:20.800 --> 01:21.800]  Buongiorno, buongiorno.', '[01:22.200 --> 01:23.800]  Buongiorno, grazie per avermi invitato.', '[01:23.800 --> 01:24.800]  Grazie a te.', '[01:24.800 --> 01:25.800]  Come stai Riccardo?', \"[01:25.800 --> 01:30.040]  Benissimo, ma infatti la tecnologia e anche l'ergonomia, la progettazione è questo,\", '[01:30.040 --> 01:32.560]  assicurarsi che le cose siano comode.', '[01:32.560 --> 01:33.560]  Lui è designer, eh?', '[01:33.560 --> 01:34.560]  Lui è designer, designer.', \"[01:34.560 --> 01:38.360]  Infatti, però anche youtuber, quindi sono un po' in difetto perché oggi sono due youtuber\", '[01:38.360 --> 01:39.360]  con su un giornalista.', '[01:39.360 --> 01:40.360]  Un due, eh?', '[01:40.360 --> 01:41.360]  Un vero?', \"[01:41.360 --> 01:42.360]  E' un po' così.\", '[01:42.360 --> 01:47.760]  Ma io parto subito con Pem Pem come valuti il logo di questo podcast.', '[01:47.760 --> 01:52.720]  È bellissimo, in realtà, è straordinario, moderno e accattivante, no, funziona, funziona.', '[01:52.720 --> 01:53.720]  È semplice.', '[01:53.720 --> 01:54.720]  Approvato, perfetto.', '[01:54.720 --> 01:57.200]  Non lo sta dicendo solo perché siamo noi.', '[01:57.200 --> 02:03.280]  Ne abbiamo parlato prima, ehm, stavo leggendo la tua bio su YouTube, ti definisci un sognatore', '[02:03.280 --> 02:07.040]  che pensa ingenuamente, slash fuotemente di poter cambiare il mondo.', '[02:07.040 --> 02:09.880]  Bellissima dichiarazione, molto poetica.', '[02:09.880 --> 02:10.880]  Poetica.', '[02:10.880 --> 02:15.240]  No, in realtà è molto semplicemente il design, come tantissime altre professioni, cambiano', '[02:15.240 --> 02:16.240]  il mondo.', '[02:16.240 --> 02:22.600]  Se lo fai bene, porti un miglioramento nella vita delle persone perché il design è risolvere', '[02:22.600 --> 02:26.600]  dei problemi e quindi, ovviamente, quindi è molto semplice in realtà.', \"[02:26.600 --> 02:34.120]  Si hanno fatto un po' più sognatori nel design, cioè mi sembra che con l'uscita degli ultimi\", '[02:34.120 --> 02:39.200]  grandi designer, delle grandi aziende, ci sia un momento di…', '[02:39.200 --> 02:45.800]  Sì, allora forse nel mondo del design non ci sono più i grossi nomi, però ci sono', '[02:45.800 --> 02:48.800]  dei grossi aziende, ci sono delle aziende anche grossi team.', \"[02:48.800 --> 02:53.600]  Soprattutto il mondo del prodotto industriale sta soffrendo un pochetto, forse c'è meno\", '[02:53.600 --> 02:57.880]  una persona che risalta, come potevano essere tanti grossi nella storia, soprattutto il', '[02:57.880 --> 03:03.720]  design italiano, che risaltano, ma lo fanno, soprattutto in Italia, lo fanno bene.', '[03:03.720 --> 03:10.280]  E questa è una domanda che stiamo facendo in tutte le puntate, visto che si chiama upgrade,', '[03:10.280 --> 03:14.160]  visto che parliamo di aggiornamento, di come la tecnologia aggiornale in osse vite, quando', '[03:14.160 --> 03:18.640]  si parla di aggiornamenti, si parla di versioni 1.0, 2.0, 3.0.', '[03:18.640 --> 03:24.360]  Secondo te nel design e soprattutto nella tecnologia legata al design, a che aggiornamento siamo', '[03:24.360 --> 03:25.360]  oggi?', '[03:25.360 --> 03:30.920]  Allora, in realtà nella tecnologia stiamo andando avanti, siamo una versione abbastanza', '[03:30.920 --> 03:31.920]  avanzata.', \"[03:31.920 --> 03:39.960]  Nella tecnologia siccome più della domotica siamo all'inizio, siccome è proprio una\", '[03:39.960 --> 03:47.800]  versione 1.0, perché abbiamo messo le basi, abbiamo i prodotti tra loro comunicano, però', '[03:47.800 --> 03:50.760]  comunicano in un modo molto molto semplice per adesso.', \"[03:50.760 --> 03:57.560]  Stiamo cercando anche di creare degli ecosistemi dell'infrastrutture, però proprio siamo ancora\", \"[03:57.560 --> 03:58.560]  all'inizio.\", '[03:58.560 --> 04:02.920]  Io ogni volta che penso alla casa penso a un tuo video, perché mi piace molto quando', '[04:02.920 --> 04:04.440]  rifà il design delle cose.', '[04:04.440 --> 04:05.920]  Ah, che hai fatto il citofono?', '[04:05.920 --> 04:06.920]  Esatto, il citofono.', \"[04:06.920 --> 04:12.320]  È uno di quegli elementi che mi fanno dire, c'è davvero il forno intelligente, la\", '[04:12.320 --> 04:13.320]  cantinetta intelligente.', '[04:13.320 --> 04:15.880]  Abbiamo ancora i citofoni fatti medievali.', '[04:15.880 --> 04:20.040]  Sulle strade i citofoni sono ancora tremendi, è una roba che…', \"[04:20.040 --> 04:26.840]  Ma in realtà tutta la casa in generale dovrebbe avere un po' più un approccio da prodotto.\", '[04:26.840 --> 04:28.400]  Cosa che abbiamo visto in altri settori?', \"[04:28.400 --> 04:35.200]  Tipo le macchine iniziano ad avere un approccio un po' più da prodotto e quindi ha maggiore\", \"[04:35.200 --> 04:38.000]  l'attenzione non solo dell'estetica, ma l'esperienza autentica, ha anche una visione\", \"[04:38.000 --> 04:40.000]  un po' più l'ingimirante con gli aggiornamenti.\", '[04:40.000 --> 04:44.840]  Ecco, la casa è proprio un altro mondo, è ancora mondo edilizio, quindi non mi permette', '[04:44.840 --> 04:49.760]  se io voglio aggiornare il pavimento, voglio aggiornare i tubature, questo non è possibile', '[04:49.760 --> 04:52.920]  o per lo meno è possibile, ma è modo distruttivo, è molto complesso.', '[04:52.920 --> 04:53.920]  Certo.', '[04:53.920 --> 04:54.920]  Sì, questo senso è vero.', '[04:54.920 --> 04:55.920]  Forse siamo ancora proprio limiti.', '[04:55.920 --> 05:00.520]  Sì, siamo anche legati tanto a un concetto di casa vecchio, nel senso che il concetto', '[05:00.520 --> 05:06.920]  delle stanze che hanno una funzione, un nome, a parte il bagno che va bene, perché deve', '[05:06.920 --> 05:11.800]  esserci un soggiorno e una camera da letto, quando con una cosa modulare tu puoi avere', '[05:11.800 --> 05:14.000]  un open space che può diventare tutto, capito?', '[05:14.000 --> 05:17.640]  Il camera di letto ci devo dormire e basta, per il resto del tempo la camera da letto', '[05:17.640 --> 05:18.640]  rimane vuota.', \"[05:18.640 --> 05:22.880]  C'è così, però fino a dormire sul divano hai capito.\", '[05:22.880 --> 05:26.080]  Infatti in Milano è avantissimo, sono solo uno locali costosissimi.', '[05:26.360 --> 05:32.880]  No, nel momento in cui tutto è modulare, se avete visto cose modulare dove il letto', '[05:32.880 --> 05:35.080]  cade dal cielo e la cosa si...', '[05:35.080 --> 05:39.000]  Cioè, quella roba lì è incredibile, la cucina la vuoi solo per cucinare, allora', '[05:39.000 --> 05:40.600]  per il resto del tempo che fa?', '[05:40.600 --> 05:47.280]  Al di là dei citofoni è molto banale dire che la tecnologia e il design soprattutto', '[05:47.280 --> 05:52.640]  quando si parla di case ha cambiato tanto come si gestiscono gli spazi.', \"[05:52.640 --> 05:58.640]  Qual è la cosa che secondo te ha avuto l'impatto più grande in questo?\", '[05:58.640 --> 06:04.240]  Non solo in casa, proprio nel design in generale, cioè un qualcosa di tecnologico che ha cambiato', '[06:04.240 --> 06:07.080]  questo settore.', '[06:07.080 --> 06:15.000]  Allora, ci penso un attimo, parte invece dalla casa, perché mi viene la risposta sulla casa.', '[06:15.000 --> 06:18.840]  Secondo me è una cosa sottovalutatissima che però sta cambiando proprio le nostre', '[06:18.840 --> 06:26.240]  case, sono le luci, una cosa che prima magari era meno curata, la luce è diventato un elemento', '[06:26.240 --> 06:27.240]  di arredo.', '[06:27.240 --> 06:31.000]  Adesso abbiamo questa necessità che poi, adesso giusto e sbagliato non siamo qui a', '[06:31.000 --> 06:37.320]  dirlo, però siamo portati a decorare con la luce non solo degli angoli della casa,', '[06:37.320 --> 06:41.800]  prima ci serviva solo una luce ambientale, una stanza e buona, invece adesso abbiamo', \"[06:41.800 --> 06:46.040]  l'esigenza di riempire proprio il nostro campo visivo, qualsiasi campo visivo della\", \"[06:46.040 --> 06:53.040]  casa va coperto, va decorato con una luce, cioè la luce sotto l'altavolo della cucina,\", \"[06:53.040 --> 07:02.760]  la luce sotto le mensole, quindi è sicuramente un nuovo trend, c'è una roba nuova che prima\", \"[07:02.760 --> 07:03.760]  non c'era.\", \"[07:03.760 --> 07:09.160]  E qua poi entra un po' in contrasto rispetto a questa decorazione che ha un impatto, se\", \"[07:09.160 --> 07:15.160]  vogliamo, anche sull'ambiente, è giusto, sbagliato, qua è una cosa nuova che dobbiamo\", '[07:15.160 --> 07:16.160]  affrontare.', '[07:16.160 --> 07:20.320]  Beh, gestita in modo smart, poi puoi rendere tutto efficiente, nel senso che le luci di', '[07:20.320 --> 07:26.480]  ambiente famose che la sera non devi accecarti o anche per vivere meglio, per lavorare meglio,', \"[07:26.480 --> 07:31.400]  al discorso la luce blu, luce rossa, una stimola, l'attività, una creatività, una\", '[07:31.400 --> 07:36.200]  tistordice, secondo me sono tutte cose che non sfruttiamo ancora, che potremmo sfruttare', '[07:36.200 --> 07:37.200]  tantissimo.', '[07:37.200 --> 07:42.320]  Io non sopporto, quando vedo o da fuori, quando in caso di qualcuno che ha le luci fredde.', '[07:42.320 --> 07:44.320]  Ah, per me è una piale.', '[07:44.440 --> 07:49.240]  Sì, non riesco a capire come si possa vivere in una casa con le luci fredde, senza parlare', '[07:49.240 --> 07:52.080]  di quelle colorate, che basta quella calda.', '[07:52.080 --> 07:54.760]  Non usate led colorati ovunque, amici.', \"[07:54.760 --> 07:59.920]  Tu gli ha chiamato un'articologia che ha cambiato la nostra vita, che adesso in un...\", '[07:59.920 --> 08:06.040]  Ma il poter controllare le cose da remoto a me ha cambiato la vita, nel senso che veramente', \"[08:06.040 --> 08:10.080]  dall'accender l'area condizionata prima di arrivare a questo, a quello allo spegnere\", '[08:10.080 --> 08:12.040]  tutto senza dover andare in giro.', '[08:12.040 --> 08:14.800]  Quando esci dallo studio, con la voce spegnere tutto.', '[08:14.800 --> 08:15.800]  Capito?', '[08:15.800 --> 08:16.800]  Sì, è vero.', '[08:16.800 --> 08:17.800]  Questo tanto.', '[08:17.800 --> 08:26.520]  Non pensavo, ma i miei genitori gli ho convertiti al vocale, mia nonna comunque alza e abbasta', '[08:26.520 --> 08:28.200]  le tapparelle con la voce.', '[08:28.200 --> 08:29.920]  Funziona, capito?', '[08:29.920 --> 08:34.920]  Siamo ancora tanto rigidi come dinamica, però...', '[08:35.200 --> 08:40.080]  Su qualcosa che poi è anche legato a, quando si parla di casa e di designer, sostenibilità.', '[08:40.080 --> 08:45.840]  Sostenibilità non solo il cappotto termico, ma anche qualcosa di psicofisico, di benessere.', '[08:45.840 --> 08:52.000]  In questo la luce penso faccia molto il fatto di poter scegliere soprattutto i colori.', '[08:52.000 --> 08:53.000]  Sì, sì, sì.', '[08:53.000 --> 08:56.840]  Qua dobbiamo dare una definizione di cosa intendiamo sostenibilità.', '[08:56.840 --> 09:03.160]  Se la prendiamo nella definizione più larga, quindi anche di benessere psicofisico, sicuramente', '[09:03.200 --> 09:09.240]  molti prodotti, ma banalmente, noi abbiamo parlato del robot, tutti quei prodotti tech', '[09:09.240 --> 09:14.740]  che ti aiutano a risolvere un problema comunque ti riducono uno stress, i robot che a un', '[09:14.740 --> 09:21.000]  certo orario ti pulisceombi casa, è una cosa che, nel lungo termine, ti fa la differenza.', '[09:21.000 --> 09:22.000]  Sì, esatto.', '[09:22.000 --> 09:27.660]  Che poi è la cosa che ho notato man mano a mano che implemento cose, sono piccolissimi.', '[09:27.660 --> 09:29.720]  A me ha sempre fatto in pazienza una roba.', \"[09:29.720 --> 09:38.280]  Io non l'ho ancora messa, ma la metterò nella casa nuova, che è una sorta di caffettiera\", \"[09:38.280 --> 09:43.040]  che con l'adultin buongiorno parte, si attacca e ti fa il caffè alla mattina.\", \"[09:43.040 --> 09:44.040]  Io ce l'ho e non funziona.\", '[09:44.040 --> 09:46.360]  No, no, non su un tambiola così.', \"[09:46.360 --> 09:47.360]  C'ho rinunciato.\", '[09:47.360 --> 09:53.680]  Vedi quello che dicevamo prima, la fine schiaccia il pulsante e una cosa di fare, una cosa.', \"[09:53.680 --> 09:58.000]  Io sono aletto per avviare l'aroma del caffè, mentre sei aletto nel tuo mono locale giustamente\", '[09:58.000 --> 09:59.000]  due.', '[09:59.000 --> 10:00.000]  La fine smart, recentemente.', '[10:00.000 --> 10:01.000]  Ah, bellissimo.', '[10:01.000 --> 10:02.000]  Stiamo sperimentando.', '[10:02.000 --> 10:03.000]  Stiamo sperimentando.', '[10:03.000 --> 10:10.360]  Però sì, non ho tutte queste cose qui, ci stiamo arrivando, però nel senso che, cioè,', \"[10:10.360 --> 10:15.280]  ogni tanto noi vediamo l'epoca del passato come, ah no, perché pensa che è bello vivere\", '[10:15.280 --> 10:20.440]  quel momento in cui succedono un sacco di cose, che ogni veramente mese esce quel prodotto', \"[10:20.440 --> 10:25.520]  nuovo che fa quella roba diversa, magari la fa male, però c'è un sacco di sperimentazione\", '[10:25.520 --> 10:26.640]  in questa cosa, mi piace tantissimo.', \"[10:27.640 --> 10:33.960]  E peraltro, invece, pensando alla sostenibilità dal punto di vista energetico, c'è poi\", '[10:33.960 --> 10:39.120]  tutta la parte dei dispositivi che tu puoi consolare da fuori e che poi consolare anche', '[10:39.120 --> 10:45.680]  nel loro dispendi energetico diventano più sostenibili, quindi il fatto che io so quanto', '[10:45.680 --> 10:51.800]  mi consuma il frigorifero oppure il condizionatore lo posso attivare e spegnere solo quando', '[10:51.800 --> 10:52.800]  mi serve.', '[10:52.800 --> 10:57.760]  Poi con i pannelli solari, si possono fare infinita cosa.', '[10:57.760 --> 11:03.720]  Però secondo me qua lo step in più che bisognerrebbe fare è, appunto, avere uno scambio al contrario,', \"[11:03.720 --> 11:11.840]  non io che vado nell'app a gestire, ma l'app che viene da me, cioè l'app che con l'automatismo\", '[11:11.840 --> 11:15.480]  faccia tutto da solo, perché queste cose qui magari sarebbe bella davvero che il forno,', '[11:15.480 --> 11:21.680]  il frigo, il robot ottimizzasse e lo consumi in base a veramente la mia reale esigenza.', '[11:21.760 --> 11:28.360]  Ci sono degli elettrodomestici, però che vedo anche qua sullo sfondo, che si autogestiscono', '[11:28.360 --> 11:35.600]  in questo senso durante la giornata, che poi è esattamente il tema poi è questo, perché', '[11:35.600 --> 11:41.040]  magari noi siamo consapevoli dei momenti, degli orari, del tutto.', \"[11:41.040 --> 11:49.640]  Una persona che invece è meno techno-entusiasta non stali dall'app direa, aspetta, adesso\", '[11:49.760 --> 11:52.640]  riduco la temperatura del mio frigo di ferro perché fuo di ci sono ovviamente.', '[11:52.640 --> 11:57.360]  Bannalmente la lavatrice, che è la cosa più facile in base alla fascia oraria che nel tuo', \"[11:57.360 --> 12:02.480]  contratto della luce, sarebbe bello magari inserirlo nell'applicazione e farla partire\", '[12:02.480 --> 12:04.360]  in automatico in quel momento lì.', '[12:04.360 --> 12:12.400]  Ma questa nuova ondata di dispositività che in casa qual è quello che ti ha un giorno', '[12:12.400 --> 12:16.480]  ti ha fatto dire, ah, questo qua mi mancavo, cioè lo voglio in casa.', '[12:16.480 --> 12:25.760]  Allora, io sono un amante delle cose veramente semplici, che nemmeno dite come già ci sono', '[12:25.760 --> 12:32.440]  veramente da tanto tempo, però nella mia vecchia casa avevo una spira polvere col cavo e banalmente', '[12:32.440 --> 12:40.160]  non avere il cavo in mezzo le scatole è veramente una cosa tanto semplice che ti fa veramente', \"[12:40.280 --> 12:47.160]  tanta differenza che l'attacchi in una stanza e di girare a questo cavo tra le scato è\", '[12:47.160 --> 12:49.240]  molto semplice, estremamente semplice.', \"[12:49.240 --> 12:52.640]  Perché il design buono, l'ottimo design è quello che non si vede.\", '[12:52.640 --> 12:53.640]  Non lo vedi, non lo vedi.', \"[12:53.640 --> 12:58.960]  Guarda, per la solidità non ho pensato anche a un futuro potenzialmente lontano, c'è\", \"[12:58.960 --> 13:03.680]  un po' difficile pensare mobili che davvero si possono spostare, però...\", '[13:03.680 --> 13:04.680]  Si chiamano mobili, capito?', '[13:04.680 --> 13:05.680]  Sì, concetto.', '[13:05.960 --> 13:08.120]  Brava, è vero, che bella definizione.', '[13:08.120 --> 13:14.280]  Però banalmente immaginiamo delle rotelle sotto le sedie, queste sedie si spostano in', '[13:14.280 --> 13:18.720]  base alle esigenze quando passa al robottino si riposiziono automatico, davvero è una', '[13:18.720 --> 13:21.600]  comodità, è assurdo, sembra quasi...', \"[13:21.600 --> 13:28.440]  Sono i banchi con le rotelle della ministera dell'instituzione di anti-lockdown.\", '[13:28.440 --> 13:32.160]  Oppure tappeto e si fa tutto per terra come nel mondo arabo, esatto.', \"[13:33.120 --> 13:38.480]  Peraltro, a proposito del mondo arabo, mondo fuori dall'Italia, tu hai viaggiato tanto.\", '[13:38.480 --> 13:44.920]  Anche questa cosa è interessante, perché ogni paese poi ha i suoi linguaggi di design,', '[13:44.920 --> 13:46.440]  ha le sue scelte, le sue...', \"[13:46.440 --> 13:54.760]  Dov'è che hai trovato, se l'hai trovato, l'equilibrio migliore tra design, tecnologia\", '[13:54.760 --> 13:56.960]  e funzionalità delle case?', \"[13:56.960 --> 14:02.120]  Non saprei dirti quale ha l'equilibrio migliore, però effettivamente è vero che\", '[14:02.120 --> 14:06.240]  ogni paese ha proprio le sue esigenze sia funzionali che culturali.', '[14:06.240 --> 14:15.640]  Per esempio, ho vissuto in Giappone e in Giappone mi ha fatto molto speciale il fatto che esistono', '[14:15.640 --> 14:20.720]  degli elettrodomestici che in Europa non vediamo, piccolissimi, perché le case in Giappone', '[14:20.720 --> 14:24.520]  sono molto piccole, quindi sono le lavatrici piccole da single.', '[14:25.520 --> 14:28.720]  Si, quelle che vedi sui social, che dici, ma sono veri o non sono veri?', '[14:28.720 --> 14:33.800]  La lavatrici, come si chiama, è quella dei piatti, la vastoviglie, veramente da single.', '[14:33.800 --> 14:38.440]  E funzionano, cioè loro è un prodotto che nelle case hanno, perché hanno questo tipo', '[14:38.440 --> 14:39.440]  di esigenza.', '[14:39.440 --> 14:45.080]  Poi loro in generale sono molto attenti a tutto il concetto di sanificazione, quindi', \"[14:45.080 --> 14:53.160]  non solo degli oggetti, ma anche del cibo, in un modo quasi ossessivo, quindi un po'\", '[14:53.240 --> 14:57.520]  bizzarro, probabilmente in Europa arriverà qualcosa di questo, magari i frigo del futuro', '[14:57.520 --> 15:05.360]  avranno una zona di sanificazione, sicuramente essendo un mercato così diverso è stato quello', '[15:05.360 --> 15:06.360]  più interessante.', '[15:06.360 --> 15:12.400]  Devo per forza alzare il momento culturale di questo podcast, dicendo che io sono un', '[15:12.400 --> 15:20.200]  grandissimo fan dei sanitari, dei vater giapponesi e asiatici in generale.', '[15:20.200 --> 15:21.720]  È totalmente il futuro.', '[15:21.800 --> 15:25.480]  Ragazzi, chi li odia è perché non gli ha mai provati.', '[15:25.480 --> 15:32.080]  Noi che italiani abbiamo il bidet, abbiamo il bidet, no, i vater giapponesi battono', '[15:32.080 --> 15:33.080]  tutti.', '[15:33.080 --> 15:38.120]  Poi noi siamo anche abituati al bidet, però di per sé il bidet è sbagliato, ma è anche', \"[15:38.120 --> 15:39.120]  un po' genico.\", '[15:39.120 --> 15:40.120]  Ma è tutto sbagliato.', '[15:40.120 --> 15:41.120]  Ma è tutto sbagliato.', \"[15:41.120 --> 15:48.840]  Cioè che è un po' assurdo, è invece là, è tutto progettato e proprio in termini di,\", \"[15:48.840 --> 15:53.040]  si chiama user journey nel campo del design, no, quando progetti l'esperienza dell'utente\", \"[15:53.040 --> 15:57.560]  che utilizza un proto dall'inizio alla fine, quando vai sul vater e dopo c'è la fase\", '[15:57.560 --> 16:00.920]  successiva al bidet e loro fanno tutto in uno, quindi è perfettamente senso.', '[16:00.920 --> 16:03.800]  Io della parte asia te lo metto come mio oggetto preferito.', \"[16:03.800 --> 16:08.480]  Ma poi la tavoletta di scaldata, c'è proprio una cura vanti di velluto.\", '[16:08.480 --> 16:12.880]  Noi in Will diciamo spesso che quando parliamo delle nostre cose, lo facciamo di cose che', '[16:12.880 --> 16:17.160]  non ci fanno dormire da notte, che ci fanno incazzare e che vogliamo cambiare.', '[16:17.640 --> 16:23.460]  Te nel design, nel tuo settore, qual è la cosa che non ti fa dormire de la notte,', '[16:23.460 --> 16:28.120]  che ti alzi la mattina e dici, in questa cosa lavoro a ricambiata?', '[16:28.120 --> 16:32.040]  Oddio… questo è una di quelle domande come il tuo film preferito che so il tete?', '[16:32.040 --> 16:37.200]  Il designer ne conosco tanti, loro criticano tutto di solito…', '[16:37.200 --> 16:43.680]  Quindi siete tipo dei bifichi che odiate sempre… no questo poteva essere progettato…', \"[16:43.680 --> 16:48.200]  Possiamo localizzarlo temporalmente all'ultima cosa che ti ha fatto dire.\", \"[16:48.200 --> 16:56.200]  Allora in generale proprio dei grossi elettrodomesti, tipo l'alavatrice, il fatto che molte, chiaramente\", '[16:56.200 --> 16:59.320]  non tutte, devono avere meno pulsanti.', '[16:59.320 --> 17:00.320]  Meno pulsanti.', \"[17:00.320 --> 17:06.000]  Mi serve a metterla ad ascensione e poco altro, perché ma anche l'alf forno, sono 10.000\", '[17:06.000 --> 17:07.000]  iconi.', \"[17:07.000 --> 17:10.200]  Sì, quelle nuove sono top, il problema che ovviamente nelle case ci sono un po' da quelle\", '[17:10.200 --> 17:11.200]  cose.', '[17:11.200 --> 17:15.920]  Perché poi ti vi scontrago del problema reale che è casa dei tuoi, negli ultimi anni hanno', '[17:15.920 --> 17:17.960]  fatto una cosa al proprio livello di progettazione.', \"[17:17.960 --> 17:21.360]  L'alavatrice prima ti dava il dato, ti dava, lo fa anche adesso in realtà, però ti dava\", '[17:21.360 --> 17:26.720]  la temperatura, i giri, eccetera, eccetera, adesso invece iniziano a dirti perché cosa', '[17:26.720 --> 17:32.680]  ti serve, quindi stavando cotone, quindi ti do io già dei settaggi per il cotone, che', \"[17:32.680 --> 17:37.360]  chiaramente un'esperienza molto più amichevole, molto più naturale.\", '[17:37.440 --> 17:43.920]  Prima stavamo parlando di cose fuori dalle camere, dei microfoni, di casa, di innovazioni.', '[17:43.920 --> 17:49.120]  Mi è venuto questo flash che non avevo inserito nel cano vaccio di questa puntata.', '[17:49.120 --> 17:50.120]  La stampa 3D.', '[17:50.120 --> 17:53.480]  Sai che stavo pensando alla stessa cosa?', '[17:53.480 --> 17:57.080]  Due puntate siamo già… Siamo ormai connessi.', '[17:57.080 --> 18:02.280]  Però è una cosa che ha cambiato tanto il design e per qualcuno ha cambiato anche tanto', '[18:02.280 --> 18:05.240]  la casa, perché forse tu hai una stampantezza di…', '[18:05.320 --> 18:08.920]  Tu ne hai stampato lo studio in Tade di, probabilmente.', '[18:08.920 --> 18:11.040]  Beh, voi prototipate, fate…', \"[18:11.040 --> 18:16.280]  Sì, sì, sì, sì, sulla San Matete di potremmo parlare per un po' perché la tecnologia\", '[18:16.280 --> 18:21.040]  di per sé è molto innovativa, poi ci sono varie tecnologie, però proprio in termini', \"[18:21.040 --> 18:27.000]  di progetto un oggetto e l'oggetto viene, lo vedo in mano perché riesco a creare in\", \"[18:27.000 --> 18:31.800]  proprio modo materico, è un'innovazione incredibile.\", '[18:31.840 --> 18:37.960]  Il problema è che attualmente la tecnologia è ancora forse a un livello 1.0, le varie', '[18:37.960 --> 18:43.280]  tecnologie è complesso, devi essere un esperto e devi essere anche un esperto di modellazione', '[18:43.280 --> 18:47.880]  perché ti vendono il fatto che se ti si rompe una forbice puoi ristampare il pezzo ma lo', '[18:47.880 --> 18:49.920]  devi modellare questo pezzo che non è facile.', \"[18:49.920 --> 18:55.800]  Quindi siamo all'inizio, secondo me sarà la più grande tecnologia e rivoluzione\", '[18:55.800 --> 19:00.440]  dei prossimi anni quando entrerà nel mondo della produzione di massa, perché adesso ci', '[19:00.440 --> 19:03.440]  permette di fare piccoli oggetti, praticamente fai da te.', '[19:03.440 --> 19:07.520]  Quando arriverà, ma è una questione veramente di pochissimo, nei prossimi 10 anni nella', '[19:07.520 --> 19:12.120]  produzione di massa, la cambierà tutto, cambierà tutto anche dal punto di vista dei designer', '[19:12.120 --> 19:17.640]  e prodotto industriale, perché per produrre, per creare un oggetto fisico ci sono tanti', '[19:17.640 --> 19:23.000]  limiti, ci sono dei costi molto molto alti e quello può fare veramente molto più personalizzate', '[19:23.000 --> 19:26.920]  anziché fare lo stampo solo standardo sulla media, poi fare un finito di cose.', '[19:26.920 --> 19:33.920]  Secondo me è una cosa bellissima, è il fatto che la fabbricazione digitale in generale', '[19:33.920 --> 19:37.680]  nel momento in cui diventa fattibile, perché adesso tu sei la tua stampante 3D, ma come', '[19:37.680 --> 19:42.080]  dici tu ci devi smanettare, devi settarla e settare il piatto e lugello e la temperatura,', '[19:42.080 --> 19:46.840]  cioè capito, è tanto difficile e ci sono delle stampanti che stanno arrivando fighissime,', '[19:46.840 --> 19:51.120]  che hanno magari la telecamera, che vedono se la stampa sta andando male, la interrompono,', '[19:51.120 --> 19:55.520]  la riprendono, possono stampare vari colori, settano il piatto in automatico, adesso non', '[19:55.520 --> 20:00.280]  voglio entrare nel tecnico, però la cosa fighissima sarà quando riusciremo a usare', '[20:00.280 --> 20:05.560]  i materiali sulla base di quello che ci serve, nel senso che la plastica, la plastica non', '[20:05.560 --> 20:09.920]  è il male assoluto, la plastica è un materiale fighissimo, perché è super esistente a un', '[20:09.920 --> 20:12.960]  sacco di caratteristiche e lo usiamo per fare gli imballaggi.', '[20:12.960 --> 20:19.360]  Invece se tu avessi la tua stampante, il tuo coso per riciclare le cose dove ti serve', \"[20:19.360 --> 20:24.040]  una sedia, te la stampi, l'anno dopo non ti serve più, la butti dentro e ti stampi\", '[20:24.040 --> 20:29.640]  un tavolino, è veramente un concetto molto futuristico e poi arriviamo a stampare il', '[20:29.640 --> 20:30.640]  cibo.', '[20:30.640 --> 20:31.640]  Ecco esatto.', '[20:31.640 --> 20:41.440]  Proprio la NASA aveva fatto nel 2013 un bando per stampanti 3D di cibo, avevano trovato', '[20:41.440 --> 20:43.000]  una startup che stampava pizza.', '[20:43.000 --> 20:45.360]  Ma come quello futuro del delivery eh?', \"[20:45.360 --> 20:52.160]  Siamo parlando di un po' molto di là, però i delivery si le stampano, tanto la ricetta\", '[20:52.160 --> 20:55.560]  di per sé rimane, di proprietà del ristorante.', '[20:55.560 --> 20:56.560]  Certo.', \"[20:56.560 --> 21:00.160]  Però le giovane articolo l'altro giorno che ti tolava proprio, era molto buona questa\", '[21:00.160 --> 21:06.280]  zuppa di verdure per la quale ho spettato 45 minuti, stampato un ZD, però sì.', \"[21:06.280 --> 21:08.280]  Dev'essere buono, è un casino.\", '[21:08.280 --> 21:09.280]  Però sì.', '[21:09.280 --> 21:15.280]  Senti, ma se potessi scegliere uno di questi prodotti, smart, tu in casa tua cosa metteresti?', '[21:15.280 --> 21:17.280]  Ne puoi scegliere solo uno, però?', '[21:17.280 --> 21:18.280]  Progettore.', '[21:18.280 --> 21:19.280]  Il progettore.', '[21:19.280 --> 21:20.280]  Ah.', '[21:20.280 --> 21:21.280]  Sì sì sì.', '[21:21.280 --> 21:26.000]  Il progettore è davanti alla mia, davanti al letto o muro bianco e quel progettore è', '[21:26.000 --> 21:30.320]  molto flessibile, perché permette di progetto davanti, potenzialmente anche sopra.', '[21:30.320 --> 21:31.320]  Non male.', '[21:31.320 --> 21:32.320]  Bello, veramente bello.', '[21:32.320 --> 21:39.520]  E poi queste tv molto estetiche che sembrano dei quadri a livello di design, eh, interessante.', \"[21:39.520 --> 21:47.600]  Anche lì, cioè cambia i quadri in base a, c'era un quadro di goia, no non mi ricordo,\", '[21:47.600 --> 21:53.080]  perché era la ma vestida, la ma desnuda, che in base alla situazione, se veniva il re,', '[21:53.080 --> 21:59.800]  me la metteva vestita, se no la metteva, e con un quadro che si schimuove lo puoi fare.', '[21:59.800 --> 22:06.840]  Trossimi 5 anni, 10 anni, secondo te verso dove, dove inziamo, anche perché poi in questo', '[22:06.840 --> 22:10.480]  arco temporale si inserirà una altra cosa forse importante nella nostra vita, che è', '[22:10.480 --> 22:11.480]  la realtà aumentata.', '[22:11.600 --> 22:17.800]  Quindi fisico, il fisico nelle nostre case, però magari è anche qualcosa di virtuale.', '[22:17.800 --> 22:23.400]  Ci sono due grossi temi, ovviamente, che sono qui inutile ignorarli, che sono realtà virtuale', '[22:23.400 --> 22:24.960]  e intelligenza artificiale.', '[22:24.960 --> 22:31.840]  Questi due temi andranno, correranno una velocità che non abbiamo idea nei prossimi anni e', '[22:31.840 --> 22:33.120]  cambieranno molte cose.', \"[22:33.120 --> 22:36.440]  In realtà virtuale, dobbiamo capire cosa cambierà, se cambierà l'intrattenimento,\", \"[22:36.440 --> 22:41.320]  cambierà il lavoro, potrebbe cambiarli tutti, potenzialmente, e secondo me lo farà, l'intelligenza\", '[22:41.320 --> 22:47.840]  artificiale è la grande innovazione del nostro secolo, secondo me.', '[22:47.840 --> 22:52.680]  Effettivamente cambierà completamente le nostre vite, cambierà completamente le nostre', '[22:52.680 --> 22:59.240]  lavori, secondo me è meglio, perché da designer ci sono tante parti, tanti momenti del processo', \"[22:59.240 --> 23:06.160]  di progettazione che sono lunghi, tediosi, faticosi, e l'intelligenza artificiale può\", '[23:06.160 --> 23:09.120]  velocizzarti in un modo straordinario questi processi.', \"[23:09.120 --> 23:11.160]  Quindi io non vedo l'ora.\", '[23:11.160 --> 23:14.920]  Riccardo, grazie mille per questa chiacchierata su Tecnologie e Design.', '[23:14.920 --> 23:15.920]  Grazie a voi.', '[23:15.920 --> 23:19.760]  Ci vedremo nelle case del futuro con i nostri vater, schermi ovunque.', \"[23:19.760 --> 23:23.800]  Sì, abbiamo definito un po' di natura, un po' di piante, io ce le metto.\", '[23:23.800 --> 23:24.800]  Sicuramente.', '[23:24.800 --> 23:25.800]  Grazie Riccardo.', '[23:25.800 --> 23:26.800]  E grazie Iaki.', '[23:26.800 --> 23:27.800]  Grazie Marco.', \"[23:27.800 --> 23:32.080]  Noi ci vediamo alla prossima puntata in un'altra zona della Smart Think Home.\", '[23:32.080 --> 23:33.080]  Ciao ciao.', '[23:33.080 --> 23:34.080]  Ciao.', '[23:34.080 --> 23:40.080]  Upgrade è una produzione Will Media in collaborazione con Samsung, produttore esecutivo Riccardo', '[23:40.080 --> 23:47.040]  Out, host Marco Paretti, co-host Iaki Dale, con Riccardo Bricciacambò, designer e youtuber.', '[23:47.040 --> 23:54.000]  Regia Paunina Danese, fotografia Olga Galatti, line producer Giada Archivi, produzione Francesco', '[23:54.000 --> 23:59.840]  Ronchi e Federico Vaccarono, assistenti di produzione Leonardo Pavesi, editing color', '[23:59.840 --> 24:05.560]  Marco Bertons Capinello, coordinamento podcast Giulia Montelatici e Riccardo Bassetto, sound', '[24:05.560 --> 24:09.600]  mix Lorenzo Massiglia, creative director Giulia Mangano.', '[24:09.600 --> 24:15.240]  Art designer Raffaella Di Donato e Letizia Filisetti, motion designer Katia Munguzzi,', '[24:15.240 --> 24:21.800]  project manager Silvia Cediaco Nomuti, partnership Marcelo Roncalo, Samsung Content and Strategic,', \"[24:21.800 --> 24:23.680]  Samoe La Cesati e Daniela D'Amico.\"]\n"
          ]
        }
      ],
      "source": [
        "#@markdown ---\n",
        "#@markdown # **Trascription (if necessary)**\n",
        "#@markdown This cell will take depending video(s) duration(s)\n",
        "\n",
        "for video_path_local in video_path_local_list:\n",
        "    video_transcription = !whisper \"BcEqprMQu8w.wav\" --model small\n",
        "    print(video_transcription)\n"
      ]
    },
    {
      "cell_type": "code",
      "source": [
        "# @title\n",
        "Text =  open(\"BcEqprMQu8w.txt\", \"r\").read()"
      ],
      "metadata": {
        "cellView": "form",
        "id": "Yt7_UjDlOACT"
      },
      "execution_count": 11,
      "outputs": []
    },
    {
      "cell_type": "code",
      "execution_count": 12,
      "metadata": {
        "colab": {
          "base_uri": "https://localhost:8080/"
        },
        "id": "7NnXQzbOE_e5",
        "outputId": "7bfa737c-56d5-427f-fa03-732c0f735c75",
        "collapsed": true,
        "cellView": "form"
      },
      "outputs": [
        {
          "output_type": "stream",
          "name": "stderr",
          "text": [
            "Token indices sequence length is longer than the specified maximum sequence length for this model (8389 > 1024). Running this sequence through the model will result in indexing errors\n"
          ]
        },
        {
          "output_type": "stream",
          "name": "stdout",
          "text": [
            "8389\n"
          ]
        },
        {
          "output_type": "stream",
          "name": "stderr",
          "text": [
            "/usr/local/lib/python3.10/dist-packages/transformers/pipelines/base.py:1101: UserWarning: You seem to be using the pipelines sequentially on GPU. In order to maximize efficiency please use a dataset\n",
            "  warnings.warn(\n"
          ]
        },
        {
          "output_type": "stream",
          "name": "stdout",
          "text": [
            "Marco Paretti e Yaki Dale, co-hostesi di Upgrade, chiama user journey nel campo del design. Oggi siamo nel salotto della Smatthingsome di Samsung perché parliamo di design e di come la tecnologia ha cambiato il design delle nostre case. Lo facciamo con Riccardo Breccia. Che oggi, lo diciamo anche per chi non ci sta guardando, ha uno schienale, ce l'ho anch'io.\n",
            "Riccardo, un giornalista, pensa in design come un sognatore. Si hanno fatto un po' più sognatori nel design. In realtà, il design, come tantissime altre professioni, cambiano il mondo. \"Il design è molto semplicemente il design,\" says Riccardo. \"E' bellissimo, è straordinario, moderno e accattivante\"\n",
            "Soprattutto il mondo del prodotto industriale sta soffrendo un pochetto, forse c'è meno una persona che risalta, come potevano essere tanti grossi nella storia. Allora, in realtà nella tecnologia stiamo andando avanti, siamo a versione abbastanza avanzata. Stiamo cercando anche di creare degli ecosistemi dell'infrastrutture, perì proprio siami ancora all'inizio.\n",
            "Tutta la casa in generale dovrebbe avere un po' più un approccio da prodotto. Abbiamo ancora i citofoni fatti medievali. Il camera di letto ci devo dormire e basta, per il resto del tempo la camera da letto rimane vuota. Quindi ha maggiore l'attenzione non solo dell'estetica, ma l'esperienza autentica.\n",
            "In Milano è avantissimo, sono solo uno locali costosissimi. Al di là dei citofoni è molto banale dire che la tecnologia e il design soprattutto quando si parla di case ha cambiato tanto come si gestiscono gli spazi. Secondo me è una cosa sottovalutatissima che però sta cambiando proprio le nostre case. Sono le luci, uno cosa che prima magari era meno curata.\n",
            "Luce blu, luce rossa, stimola, l'attività, una creativitaga, uno tistordice, secondo me sono tutte cose che non sfruttiamo ancora. Il poter controllare le cose da remoto a me ha cambiato la vita, nel senso che veramente dall'accender l'area condizionata prima di arrivare a questo.\n",
            "Sostenibilità non solo il cappotto termico, ma anche qualcosa di psicofisico, di benessere. In questo la luce penso faccia molto il fatto di poter scegliere soprattutto i colori. A me ha sempre fatto in pazienza una roba. Io ce l'ho e non funziona. No, no, non su un robot.\n",
            "Ogni veramente mese esce quel prodotto nuovo che fa quella roba diversa, magari la fa male. Stiamo sperimentando. C'ho rinunciato. Vedi quello che dicevamo prima, la fine schiaccia il pulsante. Io sono aletto per avviare l'aroma del caffè, mentre sei aleto nel tuo mono locale giustamente due.\n",
            "Lavatrice sarebbe bello magari inserirlo nell'applicazione e farla partire in automatico in quel momento lì. Ma questa nuova ondata di dispositività che in casa qual è quello che ti ha un giorno ti ha fatto dire, ah, questo qua mi mancavo. Allora, io sono un amante delle cose veramente semplici, che nemmeno dite come già ci sono.\n",
            "L'ottimo design è quello che non si vede, non lo vedi. Guarda, per la solidità non ho pensato anche a un futuro potenzialmente lontano. Si chiamano mobili, capito? Sì, concetto. Brava, è vero, che bella definizione. Sono i banchi con le rotelle della ministera dell'instituzione di anti-lockdown.\n",
            "Le lavatrici in Giappone sono piccole da single. In generale sono molto attenti a tutto il concetto di sanificazione. Probabilmente in Europa arriverà qualcosa di questo, magari i frigo del futuro avranno una zona disanificazion. Noi che italiani abbiamo il bidet, abbiumo ilbidet, no, i vater giapponesi battono tutti.\n",
            "Noi in Will diciamo spesso che quando parliamo delle nostre cose, lo facciamo di cose che non ci fanno dormire da notte. Il designer ne conosco tanti, loro criticano tutto di solito. Meno pulsanti. Mi serve a metterla ad ascensione e poco altro, perché ma anche l'alf forno, sono 10,000 iconi.\n",
            "Negli ultimi anni hanno fatto una cosa al proprio livello di progettazione. Prima stavamo parlando di cose fuori dalle camere, dei microfoni, di casa, di innovazioni. Mi è venuto questo flash che non avevo inserito nel cano vaccio. La stampa 3D. Sai che stavo pensando alla stessa cosa? Due puntate siamo già… Siamo ormai connessi.\n",
            "La tecnologia è ancora forse forse a un livello 1.0, devi essere un esperto. Secondo me sarà la più grande tehnologia e rivoluzione dei prossimi anni. Adesso ci permette di fare piccoli oggetti, praticamente fai da te. Per produrre, per creare un oggetto fisico ci sono tanti limiti, per costi molto molto alti.\n",
            "Nel 2013 la NASA aveva fatto nel 2013 un bando per stampanti 3D di cibo, avevano trovato una startup che stampava pizza. Invece se tu avessi la tua stampante, il tuo coso per riciclare le cose dove ti serve una sedia, te la stampi, l'anno aftero non ti serve più, la butti dentro e ti stampi un tavolino, è veramente un concetto molto futuristico.\n",
            "Realtà virtuale e intelligenza artificiale are due grossi temi che sono inutile ignorarli. In realtàvirtuale, dobbiamo capire cosa cambierà, se cambie l'intrattenimento, cambiere il lavoro, potrebbe cambiarli tutti, potenzialmente anche sopra. L'intelligenza Artificiale è la grande. Trossimi 5 anni, 10 anni.\n",
            "L'intelligenza artificiale puÙ velocizzarti in un modo straordinario questi processi. Noi ci vediamo alla prossima puntata in un'altra zona della Smart Think Home. Upgrade è una produzione Will Media in collaborazione with Samsung, produttore esecutivo Riccardo Out, host Marco Paretti, co-host Iaki Dale.\n",
            "\n"
          ]
        }
      ],
      "source": [
        "#@markdown ---\n",
        "#@markdown # **Summarization**\n",
        "#@markdown Using https://huggingface.co/facebook/bart-large-cnn\n",
        "\n",
        "summarizer = pipeline(\"summarization\", model=\"facebook/bart-large-cnn\",device=0)\n",
        "\n",
        "Text = re.sub(r'\\n|\\r', ' ', Text)\n",
        "Text = re.sub(r' +', ' ', Text)\n",
        "Text = Text.strip()\n",
        "\n",
        "tokenizer = summarizer.tokenizer\n",
        "tokens = tokenizer.encode(Text)\n",
        "\n",
        "print(len(tokens))\n",
        "\n",
        "\n",
        "# Calculate the number of chunks needed\n",
        "chunk_len = math.ceil(len(tokens) / 512)\n",
        "chunksNumber = len(tokens)//chunk_len\n",
        "\n",
        "# Split the tokens into chunks\n",
        "chunks = [tokens[i:i+chunksNumber] for i in range(0, len(tokens), chunksNumber)]\n",
        "\n",
        "if(len(chunks)>1):\n",
        "  if (len(chunks[-1]) + len(chunks[-2])) < 1024:\n",
        "      merged_chunk = chunks.pop(-1) + chunks.pop(-1)\n",
        "      chunks.append(merged_chunk)\n",
        "\n",
        "summary = ''\n",
        "\n",
        "for chunk in chunks:\n",
        "\n",
        "\n",
        "\n",
        "    #print(len(chunk))\n",
        "    # Set max_length and min_length based on token count\n",
        "    max_length = len(chunk) // 2\n",
        "    min_length = len(chunk) // 5\n",
        "\n",
        "    #Generate summary for each chunk without sampling (example)\n",
        "    summary_chunk = summarizer(tokenizer.decode(chunk), max_length=max_length, min_length=min_length, do_sample=True)\n",
        "    summary += summary_chunk[0]['summary_text'] + \"\\n\"\n",
        "\n",
        "print(summary)"
      ]
    }
  ],
  "metadata": {
    "accelerator": "GPU",
    "colab": {
      "provenance": [],
      "authorship_tag": "ABX9TyMOzHIse1iGPHFh5CjYF0oO",
      "include_colab_link": true
    },
    "kernelspec": {
      "display_name": "Python 3",
      "name": "python3"
    },
    "language_info": {
      "name": "python"
    }
  },
  "nbformat": 4,
  "nbformat_minor": 0
}